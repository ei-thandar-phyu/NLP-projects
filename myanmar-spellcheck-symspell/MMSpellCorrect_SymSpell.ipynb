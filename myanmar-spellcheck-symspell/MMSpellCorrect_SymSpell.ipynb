{
  "cells": [
    {
      "cell_type": "markdown",
      "metadata": {
        "id": "CXQH1l1lTQ0W"
      },
      "source": [
        "# Spelling Correction for Myanmar Text Using SymSpell\n",
        "\n",
        "This notebook demonstrates how to use the SymSpellMyanmar module to perform spelling correction on Myanmar sentences. It loads custom unigram and bigram frequency dictionaries and applies SymSpell-based correction to a list of noisy input sentences."
      ]
    },
    {
      "cell_type": "code",
      "execution_count": null,
      "metadata": {
        "id": "X28AEXtR7mmB"
      },
      "outputs": [],
      "source": [
        "# Load the Myanmar SymSpell implementation from symspell_mm.py\n",
        "from symspell_mm import SymSpellMyanmar"
      ]
    },
    {
      "cell_type": "code",
      "execution_count": null,
      "metadata": {
        "id": "F3vjXNjR9l_2"
      },
      "outputs": [],
      "source": [
        "# Define paths to the frequency dictionaries\n",
        "unigram_path = \"data/unigram_dict.txt\"\n",
        "bigram_path = \"data/bigram_dict.txt\"\n",
        "\n",
        "# Initialize SymSpell with maximum edit distance of 3\n",
        "symspell = SymSpellMyanmar(unigram_path, bigram_path, max_edit_distance=3)"
      ]
    },
    {
      "cell_type": "code",
      "execution_count": null,
      "metadata": {
        "id": "CVJ4DTHU9phv",
        "outputId": "9d629f44-775b-4bd1-c466-89bfd54e90b1"
      },
      "outputs": [
        {
          "name": "stdout",
          "output_type": "stream",
          "text": [
            "ဒါ က ပြဿနာ မ ဟုတ် ပါ ဘူး\n",
            "သူ နဲ့ ဘာ ကိစ္စ မှ ပတ်သက် မှု မ ရှိ ဘူး\n",
            "စကြဝဠာ ဘယ်လို စ ဖြစ် လာ သလဲ\n",
            "ဦး လို ပဲ\n",
            "သူ မျက်နှာ လေး က အမြဲ ပြုံး နေ တာ ပဲ\n",
            "ကား အတူ ကြည့် ကြ များ\n",
            "ကြီး ပိုက်ချ နည်းနည်း လောက် ချေး\n",
            "မ လာ ပါ ခင်ဗျာ\n",
            "အစိမ်းသေ သေ သွား တဲ့ အမွှာ ညီမ ရဲ့ အညှိုး\n",
            "နေ မ ကောင်း လို့ အတန်း မ တတ် တာ ပါ\n",
            "အဲ့လို ဒီနေ့ လျှောက်လည် ကြ မယ်\n"
          ]
        }
      ],
      "source": [
        "# Example sentences with various misspellings\n",
        "\n",
        "sentences = [\n",
        "    \"ဒါ က ပြသနာ မ ဟုတိ ပါ ဘူူး\",\n",
        "    \"သူ နဲ့ ဘာ ကိစစ မှ ပတ်သတ် မှု မ ရှိ ဝူး\",\n",
        "    \"စကြာဝဠာ ဘယ်လို စ ဖြစ်လာ သလဲ\",\n",
        "    \"ယီး လို ပဲ\",\n",
        "    \"သူ မျက်နာ လေး က အမြဲ ြပုံး ေန တာ ပဲ\",\n",
        "    \"zကား အတူ၂ ကြည့် ကြ မား\",\n",
        "    \"ကွီး ပိုက်ချံ နည်းနည်း လောက် ချေးး\",\n",
        "    \"မဂ်လာ ပါ ခင်မျာ\",\n",
        "    \"အစိမ်းသေ သေ သွား တဲ့ အမွှာညီအမ ရဲ့ အညှိုး\",\n",
        "    \"နေ မ ကောငိး လို့ အတန်း မ တတ် တာ ပါ\",\n",
        "    \"အာ့ဆို ဒီနေြ လျှောက်လည် ကြ မယ်\"\n",
        "]\n",
        "\n",
        "for s in sentences:\n",
        "    print(symspell.correct(s))\n"
      ]
    },
    {
      "cell_type": "code",
      "execution_count": null,
      "metadata": {
        "id": "jLp2FazyoV7T"
      },
      "outputs": [],
      "source": []
    }
  ],
  "metadata": {
    "colab": {
      "provenance": []
    },
    "kernelspec": {
      "display_name": "Python 3",
      "language": "python",
      "name": "python3"
    },
    "language_info": {
      "codemirror_mode": {
        "name": "ipython",
        "version": 3
      },
      "file_extension": ".py",
      "mimetype": "text/x-python",
      "name": "python",
      "nbconvert_exporter": "python",
      "pygments_lexer": "ipython3",
      "version": "3.6.5"
    }
  },
  "nbformat": 4,
  "nbformat_minor": 0
}